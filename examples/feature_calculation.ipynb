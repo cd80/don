{
 "cells": [
  {
   "cell_type": "markdown",
   "id": "d3ce041d",
   "metadata": {},
   "source": [
    "# Technical Indicator Calculation Example\n",
    "\n",
    "This notebook demonstrates how to calculate various technical indicators using the Don framework."
   ]
  },
  {
   "cell_type": "code",
   "execution_count": null,
   "id": "e6dba0a4",
   "metadata": {},
   "outputs": [],
   "source": [
    "import pandas as pd\n",
    "import numpy as np\n",
    "import matplotlib.pyplot as plt\n",
    "from don.features.technical import TechnicalIndicators\n",
    "from don.data.binance import BinanceDataCollector"
   ]
  },
  {
   "cell_type": "markdown",
   "id": "6073c56e",
   "metadata": {},
   "source": [
    "## Load Historical Data\n",
    "\n",
    "First, we'll load some historical data to calculate indicators."
   ]
  },
  {
   "cell_type": "code",
   "execution_count": null,
   "id": "0293855a",
   "metadata": {},
   "outputs": [],
   "source": [
    "# Load historical data\n",
    "collector = BinanceDataCollector(\n",
    "    symbol='BTCUSDT',\n",
    "    api_key='your_api_key',\n",
    "    api_secret='your_api_secret'\n",
    ")\n",
    "\n",
    "# Get one month of hourly data\n",
    "end_time = pd.Timestamp.now()\n",
    "start_time = end_time - pd.Timedelta(days=30)\n",
    "data = collector.get_historical_data(\n",
    "    start_time=start_time,\n",
    "    end_time=end_time,\n",
    "    interval='1h'\n",
    ")"
   ]
  },
  {
   "cell_type": "markdown",
   "id": "b2d35cd6",
   "metadata": {},
   "source": [
    "## Calculate Technical Indicators\n",
    "\n",
    "Now we'll calculate various technical indicators."
   ]
  },
  {
   "cell_type": "code",
   "execution_count": null,
   "id": "e18863b6",
   "metadata": {},
   "outputs": [],
   "source": [
    "# Initialize technical indicators\n",
    "indicators = TechnicalIndicators()\n",
    "\n",
    "# Calculate all indicators\n",
    "result = indicators.calculate(data)\n",
    "\n",
    "# Display available indicators\n",
    "print(\"Available indicators:\", list(result.columns))\n",
    "result.head()"
   ]
  },
  {
   "cell_type": "markdown",
   "id": "b609a1b6",
   "metadata": {},
   "source": [
    "## Visualize Indicators\n",
    "\n",
    "Let's plot some common technical indicators."
   ]
  },
  {
   "cell_type": "code",
   "execution_count": null,
   "id": "30d57d50",
   "metadata": {},
   "outputs": [],
   "source": [
    "# Plot price with SMA and Bollinger Bands\n",
    "plt.figure(figsize=(12, 8))\n",
    "plt.plot(result.index, result['close'], label='Price', alpha=0.7)\n",
    "plt.plot(result.index, result['sma_20'], label='SMA(20)', alpha=0.7)\n",
    "plt.plot(result.index, result['bb_upper'], '--', label='BB Upper', alpha=0.5)\n",
    "plt.plot(result.index, result['bb_lower'], '--', label='BB Lower', alpha=0.5)\n",
    "plt.title('Price with SMA and Bollinger Bands')\n",
    "plt.legend()\n",
    "plt.show()\n",
    "\n",
    "# Plot RSI\n",
    "plt.figure(figsize=(12, 4))\n",
    "plt.plot(result.index, result['rsi'], label='RSI')\n",
    "plt.axhline(y=70, color='r', linestyle='--', alpha=0.5)\n",
    "plt.axhline(y=30, color='g', linestyle='--', alpha=0.5)\n",
    "plt.title('Relative Strength Index (RSI)')\n",
    "plt.legend()\n",
    "plt.show()\n",
    "\n",
    "# Plot MACD\n",
    "plt.figure(figsize=(12, 4))\n",
    "plt.plot(result.index, result['macd'], label='MACD')\n",
    "plt.plot(result.index, result['macd_signal'], label='Signal')\n",
    "plt.bar(result.index, result['macd_hist'], label='Histogram', alpha=0.3)\n",
    "plt.title('MACD')\n",
    "plt.legend()\n",
    "plt.show()"
   ]
  }
 ],
 "metadata": {},
 "nbformat": 4,
 "nbformat_minor": 5
}
