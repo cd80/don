{
 "cells": [
  {
   "cell_type": "markdown",
   "id": "8f25f8f2",
   "metadata": {},
   "source": [
    "# Bitcoin Futures Data Collection Example\n",
    "\n",
    "This notebook demonstrates how to use the Don framework to collect historical and real-time data from Binance Futures."
   ]
  },
  {
   "cell_type": "code",
   "execution_count": null,
   "id": "5e0d1c25",
   "metadata": {},
   "outputs": [],
   "source": [
    "import pandas as pd\n",
    "from datetime import datetime, timedelta\n",
    "from don.data.binance import BinanceDataCollector"
   ]
  },
  {
   "cell_type": "markdown",
   "id": "591325e0",
   "metadata": {},
   "source": [
    "## Initialize Data Collector\n",
    "\n",
    "First, create a BinanceDataCollector instance. You'll need your Binance API key and secret."
   ]
  },
  {
   "cell_type": "code",
   "execution_count": null,
   "id": "42fbe8e7",
   "metadata": {},
   "outputs": [],
   "source": [
    "# Initialize collector (replace with your API credentials)\n",
    "collector = BinanceDataCollector(\n",
    "    symbol='BTCUSDT',\n",
    "    api_key='your_api_key',\n",
    "    api_secret='your_api_secret'\n",
    ")"
   ]
  },
  {
   "cell_type": "markdown",
   "id": "3ad5beea",
   "metadata": {},
   "source": [
    "## Fetch Historical Data\n",
    "\n",
    "Get historical klines data for the past week with 1-hour intervals."
   ]
  },
  {
   "cell_type": "code",
   "execution_count": null,
   "id": "8163be65",
   "metadata": {},
   "outputs": [],
   "source": [
    "# Define time range\n",
    "end_time = datetime.now()\n",
    "start_time = end_time - timedelta(days=7)\n",
    "\n",
    "# Fetch historical data\n",
    "historical_data = collector.get_historical_data(\n",
    "    start_time=start_time,\n",
    "    end_time=end_time,\n",
    "    interval='1h'\n",
    ")\n",
    "\n",
    "# Display first few rows\n",
    "historical_data.head()"
   ]
  },
  {
   "cell_type": "markdown",
   "id": "2af56712",
   "metadata": {},
   "source": [
    "## Real-time Data Collection\n",
    "\n",
    "Set up real-time trade data collection using WebSocket connection."
   ]
  },
  {
   "cell_type": "code",
   "execution_count": null,
   "id": "e5e86911",
   "metadata": {},
   "outputs": [],
   "source": [
    "# Start real-time data collection\n",
    "def handle_trade(trade_data):\n",
    "    print(f\"New trade: Price={trade_data['price']}, Volume={trade_data['volume']}\")\n",
    "\n",
    "collector.start_trade_stream(callback=handle_trade)"
   ]
  },
  {
   "cell_type": "markdown",
   "id": "e6fc863f",
   "metadata": {},
   "source": [
    "## Data Analysis\n",
    "\n",
    "Basic analysis of the collected historical data."
   ]
  },
  {
   "cell_type": "code",
   "execution_count": null,
   "id": "c4820923",
   "metadata": {},
   "outputs": [],
   "source": [
    "# Calculate basic statistics\n",
    "print(\"Data Statistics:\")\n",
    "print(historical_data[['close', 'volume', 'trades']].describe())\n",
    "\n",
    "# Plot price and volume\n",
    "import matplotlib.pyplot as plt\n",
    "\n",
    "fig, (ax1, ax2) = plt.subplots(2, 1, figsize=(12, 8))\n",
    "\n",
    "# Price plot\n",
    "ax1.plot(historical_data.index, historical_data['close'])\n",
    "ax1.set_title('BTC/USDT Price')\n",
    "ax1.set_ylabel('Price (USDT)')\n",
    "\n",
    "# Volume plot\n",
    "ax2.bar(historical_data.index, historical_data['volume'])\n",
    "ax2.set_title('Trading Volume')\n",
    "ax2.set_ylabel('Volume (BTC)')\n",
    "\n",
    "plt.tight_layout()\n",
    "plt.show()"
   ]
  }
 ],
 "metadata": {},
 "nbformat": 4,
 "nbformat_minor": 5
}
